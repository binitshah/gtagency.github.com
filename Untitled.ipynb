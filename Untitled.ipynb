{
 "cells": [
  {
   "cell_type": "code",
   "execution_count": 5,
   "metadata": {
    "collapsed": false,
    "deletable": true,
    "editable": true
   },
   "outputs": [],
   "source": [
    "\n",
    "\n",
    "%load_ext rpy2.ipython\n",
    "\n"
   ]
  },
  {
   "cell_type": "code",
   "execution_count": 6,
   "metadata": {
    "collapsed": false,
    "deletable": true,
    "editable": true
   },
   "outputs": [
    {
     "name": "stdout",
     "output_type": "stream",
     "text": [
      "\n",
      "Error in library(phom) : there is no package called ‘phom’\n"
     ]
    },
    {
     "name": "stderr",
     "output_type": "stream",
     "text": [
      "/usr/local/lib/python3.5/site-packages/rpy2/rinterface/__init__.py:186: RRuntimeWarning: Error in library(phom) : there is no package called ‘phom’\n",
      "\n",
      "  warnings.warn(x, RRuntimeWarning)\n"
     ]
    }
   ],
   "source": [
    "%%R\n",
    "library(phom)\n",
    "library(scatterplot3d)\n",
    "\n",
    "N <- 20\n",
    "R <- 25\n",
    "r <- 10\n",
    "sd <- 1\n",
    "\n",
    "ts <- seq(0,2*pi,pi/N)\n",
    "ps <- seq(0,2*pi,pi/N)\n",
    "\n",
    "x<-y<-z<-c()\n",
    "for (t in ts) for (p in ps) {\n",
    "  x <- c(x,R*cos(t)+r*cos(p)*cos(t))\n",
    "  y <- c(y,R*sin(t)+r*cos(p)*sin(t))\n",
    "  z <- c(z,r*sin(p))\n",
    "}"
   ]
  },
  {
   "cell_type": "code",
   "execution_count": null,
   "metadata": {
    "collapsed": true,
    "deletable": true,
    "editable": true
   },
   "outputs": [],
   "source": []
  }
 ],
 "metadata": {
  "kernelspec": {
   "display_name": "Python 3",
   "language": "python",
   "name": "python3"
  },
  "language_info": {
   "codemirror_mode": {
    "name": "ipython",
    "version": 3
   },
   "file_extension": ".py",
   "mimetype": "text/x-python",
   "name": "python",
   "nbconvert_exporter": "python",
   "pygments_lexer": "ipython3",
   "version": "3.5.1"
  }
 },
 "nbformat": 4,
 "nbformat_minor": 2
}
